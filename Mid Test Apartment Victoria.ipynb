{
 "cells": [
  {
   "cell_type": "markdown",
   "metadata": {},
   "source": [
    "# Mid Test : Apartment Price in Victoria Dataset\n",
    "### Topik Zulkarnain\n",
    "***\n",
    "Background : The Dataset provides living area and conservation status.\n",
    "There are 218 observations and 16 variables.\n",
    "\n",
    "Objective : Create a python script for the Use Case below, please upload the script after you finish.\n",
    "The Problem is to determine the best model and give the reason.\n",
    "\n",
    "Tony who has profession as a broker wants to predict apartment price in Victoria based on living area environment and apartment conservation status. Determine the best model to predict and redefine new conservation variable in 3 level, A = 1A, B = 2A, C = 2B and 3A.\n",
    "\n",
    "Instructions :\n",
    "Download the dataset as a CSV file and place it in your current working directory with the filename \"victoria.csv\".\n",
    "1. Import Dataset: Load the dataset.\n",
    "2. Exploratory Data Analysis: Create summary of the dataset, with python function. (mean, median, modus, max, min, range)\n",
    "3. Data Visualization: Create any kind suitable plot of dataset, it will provide a lot of insight into the problem.\n",
    "4. Variable Selection: Choose the variable and its reason.\n",
    "5. Modelling: Create models using Regression\n",
    "6. Accuracy or Error: Calculate the Error using the helper function from the library, from dataset only\n"
   ]
  },
  {
   "cell_type": "markdown",
   "metadata": {},
   "source": [
    "### Solution\n",
    "***"
   ]
  },
  {
   "cell_type": "markdown",
   "metadata": {},
   "source": [
    "### 1. Load Apartment Price in Victoria Dataset"
   ]
  },
  {
   "cell_type": "code",
   "execution_count": 122,
   "metadata": {},
   "outputs": [],
   "source": [
    "import pandas as pd\n",
    "df = pd.read_csv('victoria.csv')"
   ]
  },
  {
   "cell_type": "code",
   "execution_count": 123,
   "metadata": {},
   "outputs": [
    {
     "data": {
      "text/html": [
       "<div>\n",
       "<style scoped>\n",
       "    .dataframe tbody tr th:only-of-type {\n",
       "        vertical-align: middle;\n",
       "    }\n",
       "\n",
       "    .dataframe tbody tr th {\n",
       "        vertical-align: top;\n",
       "    }\n",
       "\n",
       "    .dataframe thead th {\n",
       "        text-align: right;\n",
       "    }\n",
       "</style>\n",
       "<table border=\"1\" class=\"dataframe\">\n",
       "  <thead>\n",
       "    <tr style=\"text-align: right;\">\n",
       "      <th></th>\n",
       "      <th>row.labels</th>\n",
       "      <th>totalprice</th>\n",
       "      <th>area</th>\n",
       "      <th>zone</th>\n",
       "      <th>category</th>\n",
       "      <th>age</th>\n",
       "      <th>floor</th>\n",
       "      <th>rooms</th>\n",
       "      <th>out</th>\n",
       "      <th>conservation</th>\n",
       "      <th>toilets</th>\n",
       "      <th>garage</th>\n",
       "      <th>elevator</th>\n",
       "      <th>streetcategory</th>\n",
       "      <th>heating</th>\n",
       "      <th>tras</th>\n",
       "    </tr>\n",
       "  </thead>\n",
       "  <tbody>\n",
       "    <tr>\n",
       "      <th>0</th>\n",
       "      <td>1</td>\n",
       "      <td>228000</td>\n",
       "      <td>7530999756</td>\n",
       "      <td>Z45</td>\n",
       "      <td>4B</td>\n",
       "      <td>33</td>\n",
       "      <td>3</td>\n",
       "      <td>5</td>\n",
       "      <td>E100</td>\n",
       "      <td>2B</td>\n",
       "      <td>1</td>\n",
       "      <td>0</td>\n",
       "      <td>1</td>\n",
       "      <td>S3</td>\n",
       "      <td>3A</td>\n",
       "      <td>0</td>\n",
       "    </tr>\n",
       "    <tr>\n",
       "      <th>1</th>\n",
       "      <td>2</td>\n",
       "      <td>409000</td>\n",
       "      <td>1006500015</td>\n",
       "      <td>Z31</td>\n",
       "      <td>3B</td>\n",
       "      <td>5</td>\n",
       "      <td>7</td>\n",
       "      <td>5</td>\n",
       "      <td>E50</td>\n",
       "      <td>1A</td>\n",
       "      <td>2</td>\n",
       "      <td>1</td>\n",
       "      <td>1</td>\n",
       "      <td>S5</td>\n",
       "      <td>4A</td>\n",
       "      <td>1</td>\n",
       "    </tr>\n",
       "    <tr>\n",
       "      <th>2</th>\n",
       "      <td>3</td>\n",
       "      <td>200000</td>\n",
       "      <td>8887000275</td>\n",
       "      <td>Z52</td>\n",
       "      <td>3A</td>\n",
       "      <td>14</td>\n",
       "      <td>8</td>\n",
       "      <td>5</td>\n",
       "      <td>E50</td>\n",
       "      <td>1A</td>\n",
       "      <td>2</td>\n",
       "      <td>0</td>\n",
       "      <td>1</td>\n",
       "      <td>S2</td>\n",
       "      <td>3A</td>\n",
       "      <td>0</td>\n",
       "    </tr>\n",
       "    <tr>\n",
       "      <th>3</th>\n",
       "      <td>4</td>\n",
       "      <td>180000</td>\n",
       "      <td>6261000061</td>\n",
       "      <td>Z62</td>\n",
       "      <td>4A</td>\n",
       "      <td>41</td>\n",
       "      <td>3</td>\n",
       "      <td>4</td>\n",
       "      <td>E50</td>\n",
       "      <td>2A</td>\n",
       "      <td>1</td>\n",
       "      <td>0</td>\n",
       "      <td>0</td>\n",
       "      <td>S3</td>\n",
       "      <td>1A</td>\n",
       "      <td>0</td>\n",
       "    </tr>\n",
       "    <tr>\n",
       "      <th>4</th>\n",
       "      <td>5</td>\n",
       "      <td>443600</td>\n",
       "      <td>1461499939</td>\n",
       "      <td>Z31</td>\n",
       "      <td>3A</td>\n",
       "      <td>22</td>\n",
       "      <td>6</td>\n",
       "      <td>7</td>\n",
       "      <td>E100</td>\n",
       "      <td>1A</td>\n",
       "      <td>2</td>\n",
       "      <td>0</td>\n",
       "      <td>1</td>\n",
       "      <td>S4</td>\n",
       "      <td>4A</td>\n",
       "      <td>1</td>\n",
       "    </tr>\n",
       "  </tbody>\n",
       "</table>\n",
       "</div>"
      ],
      "text/plain": [
       "   row.labels  totalprice        area zone category  age  floor  rooms   out  \\\n",
       "0           1      228000  7530999756  Z45       4B   33      3      5  E100   \n",
       "1           2      409000  1006500015  Z31       3B    5      7      5   E50   \n",
       "2           3      200000  8887000275  Z52       3A   14      8      5   E50   \n",
       "3           4      180000  6261000061  Z62       4A   41      3      4   E50   \n",
       "4           5      443600  1461499939  Z31       3A   22      6      7  E100   \n",
       "\n",
       "  conservation  toilets  garage  elevator streetcategory heating  tras  \n",
       "0           2B        1       0         1             S3      3A     0  \n",
       "1           1A        2       1         1             S5      4A     1  \n",
       "2           1A        2       0         1             S2      3A     0  \n",
       "3           2A        1       0         0             S3      1A     0  \n",
       "4           1A        2       0         1             S4      4A     1  "
      ]
     },
     "execution_count": 123,
     "metadata": {},
     "output_type": "execute_result"
    }
   ],
   "source": [
    "df.head()"
   ]
  },
  {
   "cell_type": "markdown",
   "metadata": {},
   "source": [
    "#### Before we move on to the next point, as its mention earlier that we must redefining conservation feature to a spesific criteria"
   ]
  },
  {
   "cell_type": "code",
   "execution_count": 124,
   "metadata": {},
   "outputs": [],
   "source": [
    "#redefining conservation\n",
    "import numpy as np\n",
    "arr = []\n",
    "for i in range(len(df['conservation'])):\n",
    "    if df['conservation'][i]=='1A':\n",
    "        arr.append('A')\n",
    "    elif df['conservation'][i] == '2A':\n",
    "        arr.append('B')\n",
    "    else :\n",
    "        arr.append('C')"
   ]
  },
  {
   "cell_type": "code",
   "execution_count": 125,
   "metadata": {},
   "outputs": [
    {
     "data": {
      "text/html": [
       "<div>\n",
       "<style scoped>\n",
       "    .dataframe tbody tr th:only-of-type {\n",
       "        vertical-align: middle;\n",
       "    }\n",
       "\n",
       "    .dataframe tbody tr th {\n",
       "        vertical-align: top;\n",
       "    }\n",
       "\n",
       "    .dataframe thead th {\n",
       "        text-align: right;\n",
       "    }\n",
       "</style>\n",
       "<table border=\"1\" class=\"dataframe\">\n",
       "  <thead>\n",
       "    <tr style=\"text-align: right;\">\n",
       "      <th></th>\n",
       "      <th>row.labels</th>\n",
       "      <th>totalprice</th>\n",
       "      <th>area</th>\n",
       "      <th>zone</th>\n",
       "      <th>category</th>\n",
       "      <th>age</th>\n",
       "      <th>floor</th>\n",
       "      <th>rooms</th>\n",
       "      <th>out</th>\n",
       "      <th>conservation</th>\n",
       "      <th>toilets</th>\n",
       "      <th>garage</th>\n",
       "      <th>elevator</th>\n",
       "      <th>streetcategory</th>\n",
       "      <th>heating</th>\n",
       "      <th>tras</th>\n",
       "    </tr>\n",
       "  </thead>\n",
       "  <tbody>\n",
       "    <tr>\n",
       "      <th>0</th>\n",
       "      <td>1</td>\n",
       "      <td>228000</td>\n",
       "      <td>7530999756</td>\n",
       "      <td>Z45</td>\n",
       "      <td>4B</td>\n",
       "      <td>33</td>\n",
       "      <td>3</td>\n",
       "      <td>5</td>\n",
       "      <td>E100</td>\n",
       "      <td>C</td>\n",
       "      <td>1</td>\n",
       "      <td>0</td>\n",
       "      <td>1</td>\n",
       "      <td>S3</td>\n",
       "      <td>3A</td>\n",
       "      <td>0</td>\n",
       "    </tr>\n",
       "    <tr>\n",
       "      <th>1</th>\n",
       "      <td>2</td>\n",
       "      <td>409000</td>\n",
       "      <td>1006500015</td>\n",
       "      <td>Z31</td>\n",
       "      <td>3B</td>\n",
       "      <td>5</td>\n",
       "      <td>7</td>\n",
       "      <td>5</td>\n",
       "      <td>E50</td>\n",
       "      <td>A</td>\n",
       "      <td>2</td>\n",
       "      <td>1</td>\n",
       "      <td>1</td>\n",
       "      <td>S5</td>\n",
       "      <td>4A</td>\n",
       "      <td>1</td>\n",
       "    </tr>\n",
       "    <tr>\n",
       "      <th>2</th>\n",
       "      <td>3</td>\n",
       "      <td>200000</td>\n",
       "      <td>8887000275</td>\n",
       "      <td>Z52</td>\n",
       "      <td>3A</td>\n",
       "      <td>14</td>\n",
       "      <td>8</td>\n",
       "      <td>5</td>\n",
       "      <td>E50</td>\n",
       "      <td>A</td>\n",
       "      <td>2</td>\n",
       "      <td>0</td>\n",
       "      <td>1</td>\n",
       "      <td>S2</td>\n",
       "      <td>3A</td>\n",
       "      <td>0</td>\n",
       "    </tr>\n",
       "    <tr>\n",
       "      <th>3</th>\n",
       "      <td>4</td>\n",
       "      <td>180000</td>\n",
       "      <td>6261000061</td>\n",
       "      <td>Z62</td>\n",
       "      <td>4A</td>\n",
       "      <td>41</td>\n",
       "      <td>3</td>\n",
       "      <td>4</td>\n",
       "      <td>E50</td>\n",
       "      <td>B</td>\n",
       "      <td>1</td>\n",
       "      <td>0</td>\n",
       "      <td>0</td>\n",
       "      <td>S3</td>\n",
       "      <td>1A</td>\n",
       "      <td>0</td>\n",
       "    </tr>\n",
       "    <tr>\n",
       "      <th>4</th>\n",
       "      <td>5</td>\n",
       "      <td>443600</td>\n",
       "      <td>1461499939</td>\n",
       "      <td>Z31</td>\n",
       "      <td>3A</td>\n",
       "      <td>22</td>\n",
       "      <td>6</td>\n",
       "      <td>7</td>\n",
       "      <td>E100</td>\n",
       "      <td>A</td>\n",
       "      <td>2</td>\n",
       "      <td>0</td>\n",
       "      <td>1</td>\n",
       "      <td>S4</td>\n",
       "      <td>4A</td>\n",
       "      <td>1</td>\n",
       "    </tr>\n",
       "  </tbody>\n",
       "</table>\n",
       "</div>"
      ],
      "text/plain": [
       "   row.labels  totalprice        area zone category  age  floor  rooms   out  \\\n",
       "0           1      228000  7530999756  Z45       4B   33      3      5  E100   \n",
       "1           2      409000  1006500015  Z31       3B    5      7      5   E50   \n",
       "2           3      200000  8887000275  Z52       3A   14      8      5   E50   \n",
       "3           4      180000  6261000061  Z62       4A   41      3      4   E50   \n",
       "4           5      443600  1461499939  Z31       3A   22      6      7  E100   \n",
       "\n",
       "  conservation  toilets  garage  elevator streetcategory heating  tras  \n",
       "0            C        1       0         1             S3      3A     0  \n",
       "1            A        2       1         1             S5      4A     1  \n",
       "2            A        2       0         1             S2      3A     0  \n",
       "3            B        1       0         0             S3      1A     0  \n",
       "4            A        2       0         1             S4      4A     1  "
      ]
     },
     "execution_count": 125,
     "metadata": {},
     "output_type": "execute_result"
    }
   ],
   "source": [
    "df['conservation'] = arr\n",
    "df.head()"
   ]
  },
  {
   "cell_type": "markdown",
   "metadata": {},
   "source": [
    "### 2. Exploratory Data Analysis by using python function describe"
   ]
  },
  {
   "cell_type": "code",
   "execution_count": 126,
   "metadata": {},
   "outputs": [
    {
     "data": {
      "text/html": [
       "<div>\n",
       "<style scoped>\n",
       "    .dataframe tbody tr th:only-of-type {\n",
       "        vertical-align: middle;\n",
       "    }\n",
       "\n",
       "    .dataframe tbody tr th {\n",
       "        vertical-align: top;\n",
       "    }\n",
       "\n",
       "    .dataframe thead th {\n",
       "        text-align: right;\n",
       "    }\n",
       "</style>\n",
       "<table border=\"1\" class=\"dataframe\">\n",
       "  <thead>\n",
       "    <tr style=\"text-align: right;\">\n",
       "      <th></th>\n",
       "      <th>row.labels</th>\n",
       "      <th>totalprice</th>\n",
       "      <th>age</th>\n",
       "      <th>floor</th>\n",
       "      <th>rooms</th>\n",
       "      <th>toilets</th>\n",
       "      <th>garage</th>\n",
       "      <th>elevator</th>\n",
       "      <th>tras</th>\n",
       "    </tr>\n",
       "  </thead>\n",
       "  <tbody>\n",
       "    <tr>\n",
       "      <th>count</th>\n",
       "      <td>218.000000</td>\n",
       "      <td>218.000000</td>\n",
       "      <td>218.000000</td>\n",
       "      <td>218.000000</td>\n",
       "      <td>218.000000</td>\n",
       "      <td>218.000000</td>\n",
       "      <td>218.000000</td>\n",
       "      <td>218.000000</td>\n",
       "      <td>218.000000</td>\n",
       "    </tr>\n",
       "    <tr>\n",
       "      <th>mean</th>\n",
       "      <td>109.500000</td>\n",
       "      <td>280741.522936</td>\n",
       "      <td>19.899083</td>\n",
       "      <td>4.440367</td>\n",
       "      <td>4.853211</td>\n",
       "      <td>1.467890</td>\n",
       "      <td>0.243119</td>\n",
       "      <td>0.798165</td>\n",
       "      <td>0.807339</td>\n",
       "    </tr>\n",
       "    <tr>\n",
       "      <th>std</th>\n",
       "      <td>63.075352</td>\n",
       "      <td>69298.460578</td>\n",
       "      <td>14.595590</td>\n",
       "      <td>2.126988</td>\n",
       "      <td>0.634285</td>\n",
       "      <td>0.500116</td>\n",
       "      <td>0.450881</td>\n",
       "      <td>0.402293</td>\n",
       "      <td>0.406787</td>\n",
       "    </tr>\n",
       "    <tr>\n",
       "      <th>min</th>\n",
       "      <td>1.000000</td>\n",
       "      <td>155000.000000</td>\n",
       "      <td>1.000000</td>\n",
       "      <td>1.000000</td>\n",
       "      <td>3.000000</td>\n",
       "      <td>1.000000</td>\n",
       "      <td>0.000000</td>\n",
       "      <td>0.000000</td>\n",
       "      <td>0.000000</td>\n",
       "    </tr>\n",
       "    <tr>\n",
       "      <th>25%</th>\n",
       "      <td>55.250000</td>\n",
       "      <td>228500.000000</td>\n",
       "      <td>11.000000</td>\n",
       "      <td>3.000000</td>\n",
       "      <td>5.000000</td>\n",
       "      <td>1.000000</td>\n",
       "      <td>0.000000</td>\n",
       "      <td>1.000000</td>\n",
       "      <td>1.000000</td>\n",
       "    </tr>\n",
       "    <tr>\n",
       "      <th>50%</th>\n",
       "      <td>109.500000</td>\n",
       "      <td>269750.000000</td>\n",
       "      <td>16.000000</td>\n",
       "      <td>4.000000</td>\n",
       "      <td>5.000000</td>\n",
       "      <td>1.000000</td>\n",
       "      <td>0.000000</td>\n",
       "      <td>1.000000</td>\n",
       "      <td>1.000000</td>\n",
       "    </tr>\n",
       "    <tr>\n",
       "      <th>75%</th>\n",
       "      <td>163.750000</td>\n",
       "      <td>328625.000000</td>\n",
       "      <td>24.000000</td>\n",
       "      <td>5.000000</td>\n",
       "      <td>5.000000</td>\n",
       "      <td>2.000000</td>\n",
       "      <td>0.000000</td>\n",
       "      <td>1.000000</td>\n",
       "      <td>1.000000</td>\n",
       "    </tr>\n",
       "    <tr>\n",
       "      <th>max</th>\n",
       "      <td>218.000000</td>\n",
       "      <td>560000.000000</td>\n",
       "      <td>118.000000</td>\n",
       "      <td>12.000000</td>\n",
       "      <td>7.000000</td>\n",
       "      <td>2.000000</td>\n",
       "      <td>2.000000</td>\n",
       "      <td>1.000000</td>\n",
       "      <td>2.000000</td>\n",
       "    </tr>\n",
       "  </tbody>\n",
       "</table>\n",
       "</div>"
      ],
      "text/plain": [
       "       row.labels     totalprice         age       floor       rooms  \\\n",
       "count  218.000000     218.000000  218.000000  218.000000  218.000000   \n",
       "mean   109.500000  280741.522936   19.899083    4.440367    4.853211   \n",
       "std     63.075352   69298.460578   14.595590    2.126988    0.634285   \n",
       "min      1.000000  155000.000000    1.000000    1.000000    3.000000   \n",
       "25%     55.250000  228500.000000   11.000000    3.000000    5.000000   \n",
       "50%    109.500000  269750.000000   16.000000    4.000000    5.000000   \n",
       "75%    163.750000  328625.000000   24.000000    5.000000    5.000000   \n",
       "max    218.000000  560000.000000  118.000000   12.000000    7.000000   \n",
       "\n",
       "          toilets      garage    elevator        tras  \n",
       "count  218.000000  218.000000  218.000000  218.000000  \n",
       "mean     1.467890    0.243119    0.798165    0.807339  \n",
       "std      0.500116    0.450881    0.402293    0.406787  \n",
       "min      1.000000    0.000000    0.000000    0.000000  \n",
       "25%      1.000000    0.000000    1.000000    1.000000  \n",
       "50%      1.000000    0.000000    1.000000    1.000000  \n",
       "75%      2.000000    0.000000    1.000000    1.000000  \n",
       "max      2.000000    2.000000    1.000000    2.000000  "
      ]
     },
     "execution_count": 126,
     "metadata": {},
     "output_type": "execute_result"
    }
   ],
   "source": [
    "df.describe()"
   ]
  },
  {
   "cell_type": "markdown",
   "metadata": {},
   "source": [
    "there's a feature that we dont need to use which is rowlabels and area, therefore we'll drop it"
   ]
  },
  {
   "cell_type": "code",
   "execution_count": 127,
   "metadata": {},
   "outputs": [],
   "source": [
    "df=df.drop(columns=['row.labels','area'])"
   ]
  },
  {
   "cell_type": "markdown",
   "metadata": {},
   "source": [
    "### 3. Creating a suitable plot of dataset\n"
   ]
  },
  {
   "cell_type": "code",
   "execution_count": 128,
   "metadata": {},
   "outputs": [
    {
     "name": "stdout",
     "output_type": "stream",
     "text": [
      "<class 'pandas.core.frame.DataFrame'>\n",
      "RangeIndex: 218 entries, 0 to 217\n",
      "Data columns (total 14 columns):\n",
      "totalprice        218 non-null int64\n",
      "zone              218 non-null object\n",
      "category          218 non-null object\n",
      "age               218 non-null int64\n",
      "floor             218 non-null int64\n",
      "rooms             218 non-null int64\n",
      "out               218 non-null object\n",
      "conservation      218 non-null object\n",
      "toilets           218 non-null int64\n",
      "garage            218 non-null int64\n",
      "elevator          218 non-null int64\n",
      "streetcategory    218 non-null object\n",
      "heating           218 non-null object\n",
      "tras              218 non-null int64\n",
      "dtypes: int64(8), object(6)\n",
      "memory usage: 23.9+ KB\n"
     ]
    }
   ],
   "source": [
    "#import library\n",
    "import seaborn as sns\n",
    "import matplotlib.pyplot as plt\n",
    "#Print all data type\n",
    "df.info()"
   ]
  },
  {
   "cell_type": "markdown",
   "metadata": {},
   "source": [
    "since we aiming for help Tony the broker to predict apartment price based on living environment and conservation status, it is pretty obvious to use scatter plot. Scatter plots are used when you want to show the relationship between two variables. Scatter plots are sometimes called correlation plots because they show how two variables are correlated. In order to do that, first we must transform categorical data into numeric by using labelencoder. But other than that, we can still use another plot like pie chart, barplot, boxplot etc. Sometimes its hard to see the pattern / correlation between features, then as an alternatives we'll use heatmap instead, it would become more clearer to see the correllations (see on the nex point)."
   ]
  },
  {
   "cell_type": "markdown",
   "metadata": {},
   "source": [
    "#### Using pie chart to visualize the proportion of conservation, zone, category, out, streetcategory, and heating"
   ]
  },
  {
   "cell_type": "code",
   "execution_count": 156,
   "metadata": {},
   "outputs": [
    {
     "data": {
      "image/png": "[encoded data removed]",
      "text/plain": [
       "<matplotlib.figure.Figure at 0x2a04ac724e0>"
      ]
     },
     "metadata": {},
     "output_type": "display_data"
    }
   ],
   "source": [
    "data =['conservation', 'category', 'out', 'streetcategory', 'heating']\n",
    "fig = plt.figure(figsize = (10,15))\n",
    "axes = 320\n",
    "for x in data :\n",
    "    axes += 1\n",
    "    fig.add_subplot(axes)\n",
    "    labels = pd.DataFrame(df[x].value_counts())\n",
    "    plt.pie(df[x].value_counts(), labels = labels.index, autopct='%.2f')\n",
    "plt.show()"
   ]
  },
  {
   "cell_type": "markdown",
   "metadata": {},
   "source": [
    "#### Using boxplot to see the distribustion of totalprice and age"
   ]
  },
  {
   "cell_type": "code",
   "execution_count": 159,
   "metadata": {},
   "outputs": [
    {
     "data": {
      "image/png": "[encoded data removed]",
      "text/plain": [
       "<matplotlib.figure.Figure at 0x2a04a76ff60>"
      ]
     },
     "metadata": {},
     "output_type": "display_data"
    }
   ],
   "source": [
    "data_numerical = ['totalprice', 'age']\n",
    "fig = plt.figure(figsize = (20,20))\n",
    "axes = 320\n",
    "for num in data_numerical:\n",
    "    axes += 1\n",
    "    fig.add_subplot(axes)\n",
    "    sns.boxplot(data = df, x = num )\n",
    "plt.show()"
   ]
  },
  {
   "cell_type": "markdown",
   "metadata": {},
   "source": [
    "#### Using Barplot to visualize the highest total price base on spesific living environment"
   ]
  },
  {
   "cell_type": "code",
   "execution_count": 165,
   "metadata": {},
   "outputs": [
    {
     "data": {
      "image/png": "[encoded data removed]",
      "text/plain": [
       "<matplotlib.figure.Figure at 0x2a04a7417f0>"
      ]
     },
     "metadata": {},
     "output_type": "display_data"
    }
   ],
   "source": [
    "category_apartment = df[['zone', 'category', 'out', 'conservation', 'streetcategory', 'heating']]\n",
    "fig = plt.figure(figsize = (20,20))\n",
    "axes = 320\n",
    "for cat in category_apartment:\n",
    "    axes += 1\n",
    "    fig.add_subplot(axes)\n",
    "    plt.bar(x = cat ,height='totalprice',  data=df )\n",
    "plt.show()"
   ]
  },
  {
   "cell_type": "markdown",
   "metadata": {},
   "source": [
    "### 5. Variable Selection and Its Reasons\n",
    "As I mention earlier, I will visualize the data with heatmap so that we can clear to see what variables/features we need to use to create regression model base on the correlation among variables. First thing first, we need to transform categoric data to numeric data by using labelencoder, while leaving numeric data alone."
   ]
  },
  {
   "cell_type": "code",
   "execution_count": 186,
   "metadata": {},
   "outputs": [],
   "source": [
    "from sklearn.preprocessing import LabelEncoder\n",
    "from sklearn.pipeline import Pipeline\n",
    "class MultiColumnLabelEncoder:\n",
    "    def __init__(self,columns = None):\n",
    "        self.columns = columns # array of column names to encode\n",
    "\n",
    "    def fit(self,X,y=None):\n",
    "        return self # not relevant here\n",
    "\n",
    "    def transform(self,X):\n",
    "        '''\n",
    "        Transforms columns of X specified in self.columns using\n",
    "        LabelEncoder(). If no columns specified, transforms all\n",
    "        columns in X.\n",
    "        '''\n",
    "        output = X.copy()\n",
    "        if self.columns is not None:\n",
    "            for col in self.columns:\n",
    "                output[col] = LabelEncoder().fit_transform(output[col])\n",
    "        else:\n",
    "            for colname,col in output.iteritems():\n",
    "                output[colname] = LabelEncoder().fit_transform(col)\n",
    "        return output\n",
    "\n",
    "    def fit_transform(self,X,y=None):\n",
    "        return self.fit(X,y).transform(X)"
   ]
  },
  {
   "cell_type": "code",
   "execution_count": 187,
   "metadata": {},
   "outputs": [],
   "source": [
    "df = MultiColumnLabelEncoder(columns = ['zone','category','out','conservation','streetcategory','heating']).fit_transform(df)"
   ]
  },
  {
   "cell_type": "code",
   "execution_count": 188,
   "metadata": {},
   "outputs": [
    {
     "data": {
      "text/plain": [
       "<matplotlib.axes._subplots.AxesSubplot at 0x2a04a5a54e0>"
      ]
     },
     "execution_count": 188,
     "metadata": {},
     "output_type": "execute_result"
    },
    {
     "data": {
      "image/png": "[encoded data removed]",
      "text/plain": [
       "<matplotlib.figure.Figure at 0x2a04a5a55f8>"
      ]
     },
     "metadata": {},
     "output_type": "display_data"
    }
   ],
   "source": [
    "import seaborn as sns\n",
    "plt.figure(figsize=(10,10))\n",
    "cor = df.corr() #Calculate the correlation of the above variables\n",
    "sns.heatmap(cor, square = True) #Plot the correlation as heat map"
   ]
  },
  {
   "cell_type": "markdown",
   "metadata": {},
   "source": [
    "from the heatmap above,  variables that most influences the total price is number of rooms, number of toilets, garage, category, and conservation"
   ]
  },
  {
   "cell_type": "markdown",
   "metadata": {},
   "source": [
    "### 6. Modelling"
   ]
  },
  {
   "cell_type": "code",
   "execution_count": 189,
   "metadata": {},
   "outputs": [
    {
     "name": "stdout",
     "output_type": "stream",
     "text": [
      "                            OLS Regression Results                            \n",
      "==============================================================================\n",
      "Dep. Variable:             totalprice   R-squared:                       0.642\n",
      "Model:                            OLS   Adj. R-squared:                  0.632\n",
      "Method:                 Least Squares   F-statistic:                     63.05\n",
      "Date:                Thu, 10 Oct 2019   Prob (F-statistic):           2.08e-44\n",
      "Time:                        14:31:28   Log-Likelihood:                -2626.7\n",
      "No. Observations:                 218   AIC:                             5267.\n",
      "Df Residuals:                     211   BIC:                             5291.\n",
      "Df Model:                           6                                         \n",
      "Covariance Type:            nonrobust                                         \n",
      "================================================================================\n",
      "                   coef    std err          t      P>|t|      [0.025      0.975]\n",
      "--------------------------------------------------------------------------------\n",
      "const         8.843e+04   2.71e+04      3.263      0.001     3.5e+04    1.42e+05\n",
      "category     -1.134e+04   3523.030     -3.219      0.001   -1.83e+04   -4396.150\n",
      "rooms         2.897e+04   5123.213      5.655      0.000    1.89e+04    3.91e+04\n",
      "conservation -1151.7014   4236.355     -0.272      0.786   -9502.705    7199.302\n",
      "toilets       4.062e+04   8151.422      4.984      0.000    2.46e+04    5.67e+04\n",
      "garage        3.356e+04   7230.830      4.641      0.000    1.93e+04    4.78e+04\n",
      "elevator      2.245e+04   8521.536      2.634      0.009    5648.145    3.92e+04\n",
      "==============================================================================\n",
      "Omnibus:                       38.418   Durbin-Watson:                   2.008\n",
      "Prob(Omnibus):                  0.000   Jarque-Bera (JB):               75.356\n",
      "Skew:                           0.873   Prob(JB):                     4.33e-17\n",
      "Kurtosis:                       5.291   Cond. No.                         58.6\n",
      "==============================================================================\n",
      "\n",
      "Warnings:\n",
      "[1] Standard Errors assume that the covariance matrix of the errors is correctly specified.\n"
     ]
    }
   ],
   "source": [
    "import statsmodels.api as sm\n",
    "import scipy.stats as stats\n",
    "import numpy as np\n",
    "X = df.drop(columns=['totalprice','zone','age','floor','out', 'streetcategory', 'heating', 'tras'])\n",
    "y = df.totalprice\n",
    "X= sm.add_constant(X)\n",
    "model = sm.OLS(y, X).fit()\n",
    "predictions = model.predict(X)\n",
    "print(model.summary())"
   ]
  }
 ],
 "metadata": {
  "kernelspec": {
   "display_name": "Python 3",
   "language": "python",
   "name": "python3"
  },
  "language_info": {
   "codemirror_mode": {
    "name": "ipython",
    "version": 3
   },
   "file_extension": ".py",
   "mimetype": "text/x-python",
   "name": "python",
   "nbconvert_exporter": "python",
   "pygments_lexer": "ipython3",
   "version": "3.6.4"
  }
 },
 "nbformat": 4,
 "nbformat_minor": 2
}
